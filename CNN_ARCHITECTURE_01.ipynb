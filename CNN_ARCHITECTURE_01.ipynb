{
  "nbformat": 4,
  "nbformat_minor": 0,
  "metadata": {
    "colab": {
      "name": "TRY01.ipynb",
      "provenance": [],
      "collapsed_sections": []
    },
    "kernelspec": {
      "name": "python3",
      "display_name": "Python 3"
    },
    "language_info": {
      "name": "python"
    },
    "accelerator": "GPU"
  },
  "cells": [
    {
      "cell_type": "code",
      "metadata": {
        "id": "hR8VAl99u0P3"
      },
      "source": [
        "import tensorflow as tf\n",
        "import keras\n",
        "import numpy as np\n",
        "import matplotlib.pyplot as plt\n",
        "from keras.models import Sequential,Model\n",
        "from keras.layers import Dense, Conv2D, MaxPooling2D, GlobalAveragePooling2D, DepthwiseConv2D, BatchNormalization, Activation, Flatten, ZeroPadding2D"
      ],
      "execution_count": null,
      "outputs": []
    },
    {
      "cell_type": "code",
      "metadata": {
        "id": "TMjflZOJu6j8"
      },
      "source": [
        "def _conv_block(inputs, filters,kernel, strides):\n",
        "  x = ZeroPadding2D(padding=((0, 1), (0, 1)))(inputs)\n",
        "  x = keras.layers.Conv2D(filters, kernel, padding='valid',use_bias=False,strides=strides)(x)\n",
        "  x = keras.layers.BatchNormalization()(x)\n",
        "  return keras.layers.ReLU(6.)(x)"
      ],
      "execution_count": null,
      "outputs": []
    },
    {
      "cell_type": "code",
      "metadata": {
        "id": "BfG59Id1u8II"
      },
      "source": [
        "def _depthwise_conv_block(inputs, pointwise_conv_filters,strides):\n",
        "  if strides == (1, 1):\n",
        "    x = inputs\n",
        "  else:\n",
        "    x = ZeroPadding2D(((0, 1), (0, 1)))(inputs)\n",
        "  x = keras.layers.DepthwiseConv2D((3, 3),padding='same' if strides == (1, 1) else 'valid', use_bias=False, strides=strides)(x)\n",
        "  x = keras.layers.BatchNormalization()(x)\n",
        "  x = keras.layers.ReLU(6.)(x)\n",
        "\n",
        "  x = keras.layers.Conv2D(pointwise_conv_filters, (1, 1),padding='same',use_bias=False,strides=(1, 1))(x)\n",
        "  x = keras.layers.BatchNormalization()(x)\n",
        "  return keras.layers.ReLU(6.)(x)"
      ],
      "execution_count": null,
      "outputs": []
    },
    {
      "cell_type": "code",
      "metadata": {
        "colab": {
          "base_uri": "https://localhost:8080/"
        },
        "id": "TRiYTQr5u-KK",
        "outputId": "aaf6a5af-8048-4f74-f0c2-72a38d870c1c"
      },
      "source": [
        "    inputs = keras.layers.Input( shape=( 224 , 224 , 3) )\n",
        "    x = _conv_block(inputs, 32, 3,strides=(2, 2))\n",
        "    x = _depthwise_conv_block(x, 64, strides=(1, 1))\n",
        "\n",
        "    x = _depthwise_conv_block(x, 128,strides=(2, 2))\n",
        "    x = _depthwise_conv_block(x, 128, strides=(1, 1))\n",
        "\n",
        "    x = _depthwise_conv_block(x, 256, strides=(2, 2))\n",
        "    x = _depthwise_conv_block(x, 256, strides=(1, 1))\n",
        "\n",
        "    x = _depthwise_conv_block(x, 512, strides=(2, 2))\n",
        "\n",
        "    x = _depthwise_conv_block(x, 512, strides=(1, 1))\n",
        "    x = _depthwise_conv_block(x, 512, strides=(1, 1))\n",
        "    x = _depthwise_conv_block(x, 512, strides=(1, 1))\n",
        "    x = _depthwise_conv_block(x, 512, strides=(1, 1))\n",
        "    x = _depthwise_conv_block(x, 512, strides=(1, 1))\n",
        "\n",
        "    x = _depthwise_conv_block(x, 1024, strides=(2, 2))\n",
        "    x = _depthwise_conv_block(x, 1024, strides=(1, 1))\n",
        "\n",
        "    x = tf.keras.layers.GlobalAveragePooling2D()(x)\n",
        "    output_1 = keras.layers.Dense(1, activation='sigmoid')(x)\n",
        "    output_2 = keras.layers.Dense(4, activation='linear')(x)\n",
        "    output_3 = keras.layers.Dense(64, activation='linear')(x)\n",
        "    model = Model(inputs, outputs=[output_1, output_2, output_3])\n",
        "\n",
        "    model.compile(loss=[tf.keras.losses.BinaryCrossentropy() ,tf.keras.losses.MeanSquaredError(), tf.keras.losses.MeanSquaredError()],optimizer=keras.optimizers.Adam(lr=1e-3), metrics=['acc'])\n",
        "    model.summary()"
      ],
      "execution_count": null,
      "outputs": [
        {
          "output_type": "stream",
          "text": [
            "Model: \"model\"\n",
            "__________________________________________________________________________________________________\n",
            "Layer (type)                    Output Shape         Param #     Connected to                     \n",
            "==================================================================================================\n",
            "input_2 (InputLayer)            [(None, 224, 224, 3) 0                                            \n",
            "__________________________________________________________________________________________________\n",
            "zero_padding2d_1 (ZeroPadding2D (None, 225, 225, 3)  0           input_2[0][0]                    \n",
            "__________________________________________________________________________________________________\n",
            "conv2d_1 (Conv2D)               (None, 112, 112, 32) 864         zero_padding2d_1[0][0]           \n",
            "__________________________________________________________________________________________________\n",
            "batch_normalization_1 (BatchNor (None, 112, 112, 32) 128         conv2d_1[0][0]                   \n",
            "__________________________________________________________________________________________________\n",
            "re_lu (ReLU)                    (None, 112, 112, 32) 0           batch_normalization_1[0][0]      \n",
            "__________________________________________________________________________________________________\n",
            "depthwise_conv2d (DepthwiseConv (None, 112, 112, 32) 288         re_lu[0][0]                      \n",
            "__________________________________________________________________________________________________\n",
            "batch_normalization_2 (BatchNor (None, 112, 112, 32) 128         depthwise_conv2d[0][0]           \n",
            "__________________________________________________________________________________________________\n",
            "re_lu_1 (ReLU)                  (None, 112, 112, 32) 0           batch_normalization_2[0][0]      \n",
            "__________________________________________________________________________________________________\n",
            "conv2d_2 (Conv2D)               (None, 112, 112, 64) 2048        re_lu_1[0][0]                    \n",
            "__________________________________________________________________________________________________\n",
            "batch_normalization_3 (BatchNor (None, 112, 112, 64) 256         conv2d_2[0][0]                   \n",
            "__________________________________________________________________________________________________\n",
            "re_lu_2 (ReLU)                  (None, 112, 112, 64) 0           batch_normalization_3[0][0]      \n",
            "__________________________________________________________________________________________________\n",
            "zero_padding2d_2 (ZeroPadding2D (None, 113, 113, 64) 0           re_lu_2[0][0]                    \n",
            "__________________________________________________________________________________________________\n",
            "depthwise_conv2d_1 (DepthwiseCo (None, 56, 56, 64)   576         zero_padding2d_2[0][0]           \n",
            "__________________________________________________________________________________________________\n",
            "batch_normalization_4 (BatchNor (None, 56, 56, 64)   256         depthwise_conv2d_1[0][0]         \n",
            "__________________________________________________________________________________________________\n",
            "re_lu_3 (ReLU)                  (None, 56, 56, 64)   0           batch_normalization_4[0][0]      \n",
            "__________________________________________________________________________________________________\n",
            "conv2d_3 (Conv2D)               (None, 56, 56, 128)  8192        re_lu_3[0][0]                    \n",
            "__________________________________________________________________________________________________\n",
            "batch_normalization_5 (BatchNor (None, 56, 56, 128)  512         conv2d_3[0][0]                   \n",
            "__________________________________________________________________________________________________\n",
            "re_lu_4 (ReLU)                  (None, 56, 56, 128)  0           batch_normalization_5[0][0]      \n",
            "__________________________________________________________________________________________________\n",
            "depthwise_conv2d_2 (DepthwiseCo (None, 56, 56, 128)  1152        re_lu_4[0][0]                    \n",
            "__________________________________________________________________________________________________\n",
            "batch_normalization_6 (BatchNor (None, 56, 56, 128)  512         depthwise_conv2d_2[0][0]         \n",
            "__________________________________________________________________________________________________\n",
            "re_lu_5 (ReLU)                  (None, 56, 56, 128)  0           batch_normalization_6[0][0]      \n",
            "__________________________________________________________________________________________________\n",
            "conv2d_4 (Conv2D)               (None, 56, 56, 128)  16384       re_lu_5[0][0]                    \n",
            "__________________________________________________________________________________________________\n",
            "batch_normalization_7 (BatchNor (None, 56, 56, 128)  512         conv2d_4[0][0]                   \n",
            "__________________________________________________________________________________________________\n",
            "re_lu_6 (ReLU)                  (None, 56, 56, 128)  0           batch_normalization_7[0][0]      \n",
            "__________________________________________________________________________________________________\n",
            "zero_padding2d_3 (ZeroPadding2D (None, 57, 57, 128)  0           re_lu_6[0][0]                    \n",
            "__________________________________________________________________________________________________\n",
            "depthwise_conv2d_3 (DepthwiseCo (None, 28, 28, 128)  1152        zero_padding2d_3[0][0]           \n",
            "__________________________________________________________________________________________________\n",
            "batch_normalization_8 (BatchNor (None, 28, 28, 128)  512         depthwise_conv2d_3[0][0]         \n",
            "__________________________________________________________________________________________________\n",
            "re_lu_7 (ReLU)                  (None, 28, 28, 128)  0           batch_normalization_8[0][0]      \n",
            "__________________________________________________________________________________________________\n",
            "conv2d_5 (Conv2D)               (None, 28, 28, 256)  32768       re_lu_7[0][0]                    \n",
            "__________________________________________________________________________________________________\n",
            "batch_normalization_9 (BatchNor (None, 28, 28, 256)  1024        conv2d_5[0][0]                   \n",
            "__________________________________________________________________________________________________\n",
            "re_lu_8 (ReLU)                  (None, 28, 28, 256)  0           batch_normalization_9[0][0]      \n",
            "__________________________________________________________________________________________________\n",
            "depthwise_conv2d_4 (DepthwiseCo (None, 28, 28, 256)  2304        re_lu_8[0][0]                    \n",
            "__________________________________________________________________________________________________\n",
            "batch_normalization_10 (BatchNo (None, 28, 28, 256)  1024        depthwise_conv2d_4[0][0]         \n",
            "__________________________________________________________________________________________________\n",
            "re_lu_9 (ReLU)                  (None, 28, 28, 256)  0           batch_normalization_10[0][0]     \n",
            "__________________________________________________________________________________________________\n",
            "conv2d_6 (Conv2D)               (None, 28, 28, 256)  65536       re_lu_9[0][0]                    \n",
            "__________________________________________________________________________________________________\n",
            "batch_normalization_11 (BatchNo (None, 28, 28, 256)  1024        conv2d_6[0][0]                   \n",
            "__________________________________________________________________________________________________\n",
            "re_lu_10 (ReLU)                 (None, 28, 28, 256)  0           batch_normalization_11[0][0]     \n",
            "__________________________________________________________________________________________________\n",
            "zero_padding2d_4 (ZeroPadding2D (None, 29, 29, 256)  0           re_lu_10[0][0]                   \n",
            "__________________________________________________________________________________________________\n",
            "depthwise_conv2d_5 (DepthwiseCo (None, 14, 14, 256)  2304        zero_padding2d_4[0][0]           \n",
            "__________________________________________________________________________________________________\n",
            "batch_normalization_12 (BatchNo (None, 14, 14, 256)  1024        depthwise_conv2d_5[0][0]         \n",
            "__________________________________________________________________________________________________\n",
            "re_lu_11 (ReLU)                 (None, 14, 14, 256)  0           batch_normalization_12[0][0]     \n",
            "__________________________________________________________________________________________________\n",
            "conv2d_7 (Conv2D)               (None, 14, 14, 512)  131072      re_lu_11[0][0]                   \n",
            "__________________________________________________________________________________________________\n",
            "batch_normalization_13 (BatchNo (None, 14, 14, 512)  2048        conv2d_7[0][0]                   \n",
            "__________________________________________________________________________________________________\n",
            "re_lu_12 (ReLU)                 (None, 14, 14, 512)  0           batch_normalization_13[0][0]     \n",
            "__________________________________________________________________________________________________\n",
            "depthwise_conv2d_6 (DepthwiseCo (None, 14, 14, 512)  4608        re_lu_12[0][0]                   \n",
            "__________________________________________________________________________________________________\n",
            "batch_normalization_14 (BatchNo (None, 14, 14, 512)  2048        depthwise_conv2d_6[0][0]         \n",
            "__________________________________________________________________________________________________\n",
            "re_lu_13 (ReLU)                 (None, 14, 14, 512)  0           batch_normalization_14[0][0]     \n",
            "__________________________________________________________________________________________________\n",
            "conv2d_8 (Conv2D)               (None, 14, 14, 512)  262144      re_lu_13[0][0]                   \n",
            "__________________________________________________________________________________________________\n",
            "batch_normalization_15 (BatchNo (None, 14, 14, 512)  2048        conv2d_8[0][0]                   \n",
            "__________________________________________________________________________________________________\n",
            "re_lu_14 (ReLU)                 (None, 14, 14, 512)  0           batch_normalization_15[0][0]     \n",
            "__________________________________________________________________________________________________\n",
            "depthwise_conv2d_7 (DepthwiseCo (None, 14, 14, 512)  4608        re_lu_14[0][0]                   \n",
            "__________________________________________________________________________________________________\n",
            "batch_normalization_16 (BatchNo (None, 14, 14, 512)  2048        depthwise_conv2d_7[0][0]         \n",
            "__________________________________________________________________________________________________\n",
            "re_lu_15 (ReLU)                 (None, 14, 14, 512)  0           batch_normalization_16[0][0]     \n",
            "__________________________________________________________________________________________________\n",
            "conv2d_9 (Conv2D)               (None, 14, 14, 512)  262144      re_lu_15[0][0]                   \n",
            "__________________________________________________________________________________________________\n",
            "batch_normalization_17 (BatchNo (None, 14, 14, 512)  2048        conv2d_9[0][0]                   \n",
            "__________________________________________________________________________________________________\n",
            "re_lu_16 (ReLU)                 (None, 14, 14, 512)  0           batch_normalization_17[0][0]     \n",
            "__________________________________________________________________________________________________\n",
            "depthwise_conv2d_8 (DepthwiseCo (None, 14, 14, 512)  4608        re_lu_16[0][0]                   \n",
            "__________________________________________________________________________________________________\n",
            "batch_normalization_18 (BatchNo (None, 14, 14, 512)  2048        depthwise_conv2d_8[0][0]         \n",
            "__________________________________________________________________________________________________\n",
            "re_lu_17 (ReLU)                 (None, 14, 14, 512)  0           batch_normalization_18[0][0]     \n",
            "__________________________________________________________________________________________________\n",
            "conv2d_10 (Conv2D)              (None, 14, 14, 512)  262144      re_lu_17[0][0]                   \n",
            "__________________________________________________________________________________________________\n",
            "batch_normalization_19 (BatchNo (None, 14, 14, 512)  2048        conv2d_10[0][0]                  \n",
            "__________________________________________________________________________________________________\n",
            "re_lu_18 (ReLU)                 (None, 14, 14, 512)  0           batch_normalization_19[0][0]     \n",
            "__________________________________________________________________________________________________\n",
            "depthwise_conv2d_9 (DepthwiseCo (None, 14, 14, 512)  4608        re_lu_18[0][0]                   \n",
            "__________________________________________________________________________________________________\n",
            "batch_normalization_20 (BatchNo (None, 14, 14, 512)  2048        depthwise_conv2d_9[0][0]         \n",
            "__________________________________________________________________________________________________\n",
            "re_lu_19 (ReLU)                 (None, 14, 14, 512)  0           batch_normalization_20[0][0]     \n",
            "__________________________________________________________________________________________________\n",
            "conv2d_11 (Conv2D)              (None, 14, 14, 512)  262144      re_lu_19[0][0]                   \n",
            "__________________________________________________________________________________________________\n",
            "batch_normalization_21 (BatchNo (None, 14, 14, 512)  2048        conv2d_11[0][0]                  \n",
            "__________________________________________________________________________________________________\n",
            "re_lu_20 (ReLU)                 (None, 14, 14, 512)  0           batch_normalization_21[0][0]     \n",
            "__________________________________________________________________________________________________\n",
            "depthwise_conv2d_10 (DepthwiseC (None, 14, 14, 512)  4608        re_lu_20[0][0]                   \n",
            "__________________________________________________________________________________________________\n",
            "batch_normalization_22 (BatchNo (None, 14, 14, 512)  2048        depthwise_conv2d_10[0][0]        \n",
            "__________________________________________________________________________________________________\n",
            "re_lu_21 (ReLU)                 (None, 14, 14, 512)  0           batch_normalization_22[0][0]     \n",
            "__________________________________________________________________________________________________\n",
            "conv2d_12 (Conv2D)              (None, 14, 14, 512)  262144      re_lu_21[0][0]                   \n",
            "__________________________________________________________________________________________________\n",
            "batch_normalization_23 (BatchNo (None, 14, 14, 512)  2048        conv2d_12[0][0]                  \n",
            "__________________________________________________________________________________________________\n",
            "re_lu_22 (ReLU)                 (None, 14, 14, 512)  0           batch_normalization_23[0][0]     \n",
            "__________________________________________________________________________________________________\n",
            "zero_padding2d_5 (ZeroPadding2D (None, 15, 15, 512)  0           re_lu_22[0][0]                   \n",
            "__________________________________________________________________________________________________\n",
            "depthwise_conv2d_11 (DepthwiseC (None, 7, 7, 512)    4608        zero_padding2d_5[0][0]           \n",
            "__________________________________________________________________________________________________\n",
            "batch_normalization_24 (BatchNo (None, 7, 7, 512)    2048        depthwise_conv2d_11[0][0]        \n",
            "__________________________________________________________________________________________________\n",
            "re_lu_23 (ReLU)                 (None, 7, 7, 512)    0           batch_normalization_24[0][0]     \n",
            "__________________________________________________________________________________________________\n",
            "conv2d_13 (Conv2D)              (None, 7, 7, 1024)   524288      re_lu_23[0][0]                   \n",
            "__________________________________________________________________________________________________\n",
            "batch_normalization_25 (BatchNo (None, 7, 7, 1024)   4096        conv2d_13[0][0]                  \n",
            "__________________________________________________________________________________________________\n",
            "re_lu_24 (ReLU)                 (None, 7, 7, 1024)   0           batch_normalization_25[0][0]     \n",
            "__________________________________________________________________________________________________\n",
            "depthwise_conv2d_12 (DepthwiseC (None, 7, 7, 1024)   9216        re_lu_24[0][0]                   \n",
            "__________________________________________________________________________________________________\n",
            "batch_normalization_26 (BatchNo (None, 7, 7, 1024)   4096        depthwise_conv2d_12[0][0]        \n",
            "__________________________________________________________________________________________________\n",
            "re_lu_25 (ReLU)                 (None, 7, 7, 1024)   0           batch_normalization_26[0][0]     \n",
            "__________________________________________________________________________________________________\n",
            "conv2d_14 (Conv2D)              (None, 7, 7, 1024)   1048576     re_lu_25[0][0]                   \n",
            "__________________________________________________________________________________________________\n",
            "batch_normalization_27 (BatchNo (None, 7, 7, 1024)   4096        conv2d_14[0][0]                  \n",
            "__________________________________________________________________________________________________\n",
            "re_lu_26 (ReLU)                 (None, 7, 7, 1024)   0           batch_normalization_27[0][0]     \n",
            "__________________________________________________________________________________________________\n",
            "tf.math.reduce_mean (TFOpLambda (None, 1024)         0           re_lu_26[0][0]                   \n",
            "__________________________________________________________________________________________________\n",
            "dense (Dense)                   (None, 1)            1025        tf.math.reduce_mean[0][0]        \n",
            "__________________________________________________________________________________________________\n",
            "dense_1 (Dense)                 (None, 4)            4100        tf.math.reduce_mean[0][0]        \n",
            "__________________________________________________________________________________________________\n",
            "dense_2 (Dense)                 (None, 64)           65600       tf.math.reduce_mean[0][0]        \n",
            "==================================================================================================\n",
            "Total params: 3,299,589\n",
            "Trainable params: 3,277,701\n",
            "Non-trainable params: 21,888\n",
            "__________________________________________________________________________________________________\n"
          ],
          "name": "stdout"
        },
        {
          "output_type": "stream",
          "text": [
            "/usr/local/lib/python3.7/dist-packages/tensorflow/python/keras/optimizer_v2/optimizer_v2.py:375: UserWarning: The `lr` argument is deprecated, use `learning_rate` instead.\n",
            "  \"The `lr` argument is deprecated, use `learning_rate` instead.\")\n"
          ],
          "name": "stderr"
        }
      ]
    },
    {
      "cell_type": "code",
      "metadata": {
        "id": "GTZ-AMz8xzb4"
      },
      "source": [
        "model.save('/content/drive/MyDrive/Models/TRY_01.h5')"
      ],
      "execution_count": null,
      "outputs": []
    },
    {
      "cell_type": "code",
      "metadata": {
        "colab": {
          "base_uri": "https://localhost:8080/"
        },
        "id": "mm9wqO1u7jgJ",
        "outputId": "c155b77b-4f3a-4110-d9e5-88f8e1e5d685"
      },
      "source": [
        "from google.colab import drive\n",
        "drive.mount('/content/drive')"
      ],
      "execution_count": null,
      "outputs": [
        {
          "output_type": "stream",
          "text": [
            "Mounted at /content/drive\n"
          ],
          "name": "stdout"
        }
      ]
    },
    {
      "cell_type": "code",
      "metadata": {
        "id": "kyaVfxKXCH2i"
      },
      "source": [
        "model = keras.models.load_model('/content/drive/MyDrive/Models/TRY_01.h5')\n",
        "model.summary()"
      ],
      "execution_count": null,
      "outputs": []
    },
    {
      "cell_type": "code",
      "metadata": {
        "id": "hk_Uwa_X2OGM"
      },
      "source": [
        "for i,layer in enumerate(model.layers):\n",
        "  print(i, layer.name)"
      ],
      "execution_count": null,
      "outputs": []
    },
    {
      "cell_type": "code",
      "metadata": {
        "id": "cKcfWZpH6xNE"
      },
      "source": [
        "for layer in model.layers[:82]:\n",
        "  layer.trainable = False"
      ],
      "execution_count": null,
      "outputs": []
    },
    {
      "cell_type": "code",
      "metadata": {
        "id": "Ra_VrMtgAqAH",
        "colab": {
          "base_uri": "https://localhost:8080/"
        },
        "outputId": "21aeaf7d-25ce-4a31-ee14-cc3833e530c9"
      },
      "source": [
        "model.compile(loss=[tf.keras.losses.BinaryCrossentropy() ,tf.keras.losses.MeanSquaredError(), tf.keras.losses.MeanSquaredError()],optimizer=keras.optimizers.Adam(lr=1e-3), metrics=['acc'])"
      ],
      "execution_count": null,
      "outputs": [
        {
          "output_type": "stream",
          "text": [
            "/usr/local/lib/python3.7/dist-packages/tensorflow/python/keras/optimizer_v2/optimizer_v2.py:375: UserWarning: The `lr` argument is deprecated, use `learning_rate` instead.\n",
            "  \"The `lr` argument is deprecated, use `learning_rate` instead.\")\n"
          ],
          "name": "stderr"
        }
      ]
    },
    {
      "cell_type": "code",
      "metadata": {
        "id": "QXRGWxeTAq-C"
      },
      "source": [
        "X = np.load(\"/content/drive/MyDrive/NTHU-224/NTHU_224_PROPER.npy\")\n",
        "Y_1 = np.load(\"/content/drive/MyDrive/NTHU-224/NTHU_224_CS.npy\")\n",
        "Y_2 = np.load(\"/content/drive/MyDrive/NTHU-224/NTHU_224_BB.npy\")\n",
        "Y_3 = np.load(\"/content/drive/MyDrive/NTHU-224/NTHU_224_FLPOINTS.npy\")"
      ],
      "execution_count": null,
      "outputs": []
    },
    {
      "cell_type": "code",
      "metadata": {
        "colab": {
          "base_uri": "https://localhost:8080/"
        },
        "id": "lxt_ASi1C9Eb",
        "outputId": "3e72ce49-ce73-49b4-a0e3-7be91690a3e8"
      },
      "source": [
        "history = model.fit(X, [Y_1, Y_2, Y_3], epochs=20, batch_size=64, shuffle=True, validation_split=0.1, verbose=1)"
      ],
      "execution_count": null,
      "outputs": [
        {
          "output_type": "stream",
          "text": [
            "Epoch 1/20\n",
            "122/122 [==============================] - 99s 393ms/step - loss: 17077.5953 - dense_loss: 0.0122 - dense_1_loss: 8293.5318 - dense_2_loss: 8784.0511 - dense_acc: 1.0000 - dense_1_acc: 0.4311 - dense_2_acc: 0.0768 - val_loss: 742.2597 - val_dense_loss: 1.9725e-09 - val_dense_1_loss: 439.5217 - val_dense_2_loss: 302.7380 - val_dense_acc: 1.0000 - val_dense_1_acc: 0.8728 - val_dense_2_acc: 0.0382\n",
            "Epoch 2/20\n",
            "122/122 [==============================] - 45s 366ms/step - loss: 263.8913 - dense_loss: 5.6653e-09 - dense_1_loss: 150.7769 - dense_2_loss: 113.1144 - dense_acc: 1.0000 - dense_1_acc: 0.8183 - dense_2_acc: 0.2625 - val_loss: 189.5982 - val_dense_loss: 3.4185e-09 - val_dense_1_loss: 95.7206 - val_dense_2_loss: 93.8776 - val_dense_acc: 1.0000 - val_dense_1_acc: 0.8728 - val_dense_2_acc: 0.0382\n",
            "Epoch 3/20\n",
            "122/122 [==============================] - 45s 367ms/step - loss: 136.5345 - dense_loss: 1.0083e-08 - dense_1_loss: 65.6181 - dense_2_loss: 70.9163 - dense_acc: 1.0000 - dense_1_acc: 0.8329 - dense_2_acc: 0.2863 - val_loss: 134.2302 - val_dense_loss: 3.1266e-09 - val_dense_1_loss: 73.0262 - val_dense_2_loss: 61.2040 - val_dense_acc: 1.0000 - val_dense_1_acc: 0.8740 - val_dense_2_acc: 0.0855\n",
            "Epoch 4/20\n",
            "122/122 [==============================] - 45s 366ms/step - loss: 94.5615 - dense_loss: 1.7207e-08 - dense_1_loss: 43.9485 - dense_2_loss: 50.6130 - dense_acc: 1.0000 - dense_1_acc: 0.8878 - dense_2_acc: 0.3480 - val_loss: 123.1122 - val_dense_loss: 4.7057e-09 - val_dense_1_loss: 63.6620 - val_dense_2_loss: 59.4501 - val_dense_acc: 1.0000 - val_dense_1_acc: 0.9468 - val_dense_2_acc: 0.1156\n",
            "Epoch 5/20\n",
            "122/122 [==============================] - 44s 363ms/step - loss: 62.9256 - dense_loss: 1.7298e-08 - dense_1_loss: 33.2304 - dense_2_loss: 29.6952 - dense_acc: 1.0000 - dense_1_acc: 0.9030 - dense_2_acc: 0.3282 - val_loss: 68.7822 - val_dense_loss: 2.7579e-09 - val_dense_1_loss: 44.1477 - val_dense_2_loss: 24.6345 - val_dense_acc: 1.0000 - val_dense_1_acc: 0.9422 - val_dense_2_acc: 0.1422\n",
            "Epoch 6/20\n",
            "122/122 [==============================] - 44s 364ms/step - loss: 43.2954 - dense_loss: 1.8580e-08 - dense_1_loss: 24.2956 - dense_2_loss: 18.9998 - dense_acc: 1.0000 - dense_1_acc: 0.9003 - dense_2_acc: 0.3403 - val_loss: 58.4552 - val_dense_loss: 2.5987e-09 - val_dense_1_loss: 36.4171 - val_dense_2_loss: 22.0381 - val_dense_acc: 1.0000 - val_dense_1_acc: 0.9445 - val_dense_2_acc: 0.2208\n",
            "Epoch 7/20\n",
            "122/122 [==============================] - 45s 368ms/step - loss: 34.7223 - dense_loss: 2.1557e-08 - dense_1_loss: 19.8232 - dense_2_loss: 14.8991 - dense_acc: 1.0000 - dense_1_acc: 0.9069 - dense_2_acc: 0.3796 - val_loss: 64.6951 - val_dense_loss: 4.5207e-09 - val_dense_1_loss: 37.5682 - val_dense_2_loss: 27.1269 - val_dense_acc: 1.0000 - val_dense_1_acc: 0.9341 - val_dense_2_acc: 0.2162\n",
            "Epoch 8/20\n",
            "122/122 [==============================] - 44s 364ms/step - loss: 30.7416 - dense_loss: 2.5457e-08 - dense_1_loss: 17.6357 - dense_2_loss: 13.1060 - dense_acc: 1.0000 - dense_1_acc: 0.9037 - dense_2_acc: 0.3889 - val_loss: 74.1656 - val_dense_loss: 3.5999e-09 - val_dense_1_loss: 40.1892 - val_dense_2_loss: 33.9763 - val_dense_acc: 1.0000 - val_dense_1_acc: 0.9491 - val_dense_2_acc: 0.2671\n",
            "Epoch 9/20\n",
            "122/122 [==============================] - 45s 366ms/step - loss: 29.2247 - dense_loss: 3.7226e-08 - dense_1_loss: 16.7407 - dense_2_loss: 12.4839 - dense_acc: 1.0000 - dense_1_acc: 0.9216 - dense_2_acc: 0.4304 - val_loss: 52.7632 - val_dense_loss: 3.6753e-09 - val_dense_1_loss: 31.9365 - val_dense_2_loss: 20.8267 - val_dense_acc: 1.0000 - val_dense_1_acc: 0.9457 - val_dense_2_acc: 0.1850\n",
            "Epoch 10/20\n",
            "122/122 [==============================] - 45s 368ms/step - loss: 26.4759 - dense_loss: 3.0450e-08 - dense_1_loss: 14.8779 - dense_2_loss: 11.5981 - dense_acc: 1.0000 - dense_1_acc: 0.9202 - dense_2_acc: 0.4391 - val_loss: 51.7437 - val_dense_loss: 3.6504e-09 - val_dense_1_loss: 33.7272 - val_dense_2_loss: 18.0165 - val_dense_acc: 1.0000 - val_dense_1_acc: 0.9445 - val_dense_2_acc: 0.2185\n",
            "Epoch 11/20\n",
            "122/122 [==============================] - 44s 363ms/step - loss: 23.7642 - dense_loss: 2.7974e-08 - dense_1_loss: 13.4859 - dense_2_loss: 10.2782 - dense_acc: 1.0000 - dense_1_acc: 0.9210 - dense_2_acc: 0.4784 - val_loss: 51.9042 - val_dense_loss: 2.5593e-09 - val_dense_1_loss: 32.2618 - val_dense_2_loss: 19.6424 - val_dense_acc: 1.0000 - val_dense_1_acc: 0.9503 - val_dense_2_acc: 0.2035\n",
            "Epoch 12/20\n",
            "122/122 [==============================] - 44s 362ms/step - loss: 21.5114 - dense_loss: 2.7156e-08 - dense_1_loss: 12.0414 - dense_2_loss: 9.4700 - dense_acc: 1.0000 - dense_1_acc: 0.9196 - dense_2_acc: 0.4597 - val_loss: 54.5992 - val_dense_loss: 4.8326e-09 - val_dense_1_loss: 31.7646 - val_dense_2_loss: 22.8346 - val_dense_acc: 1.0000 - val_dense_1_acc: 0.9584 - val_dense_2_acc: 0.1676\n",
            "Epoch 13/20\n",
            "122/122 [==============================] - 45s 367ms/step - loss: 19.0403 - dense_loss: 4.5252e-08 - dense_1_loss: 10.5094 - dense_2_loss: 8.5309 - dense_acc: 1.0000 - dense_1_acc: 0.9152 - dense_2_acc: 0.4684 - val_loss: 51.3972 - val_dense_loss: 3.7174e-09 - val_dense_1_loss: 32.7788 - val_dense_2_loss: 18.6184 - val_dense_acc: 1.0000 - val_dense_1_acc: 0.9410 - val_dense_2_acc: 0.2012\n",
            "Epoch 14/20\n",
            "122/122 [==============================] - 45s 365ms/step - loss: 18.9583 - dense_loss: 2.4563e-08 - dense_1_loss: 10.5958 - dense_2_loss: 8.3625 - dense_acc: 1.0000 - dense_1_acc: 0.9192 - dense_2_acc: 0.4698 - val_loss: 58.9342 - val_dense_loss: 3.2277e-09 - val_dense_1_loss: 37.9177 - val_dense_2_loss: 21.0165 - val_dense_acc: 1.0000 - val_dense_1_acc: 0.9653 - val_dense_2_acc: 0.1861\n",
            "Epoch 15/20\n",
            "122/122 [==============================] - 45s 365ms/step - loss: 17.1704 - dense_loss: 3.2265e-08 - dense_1_loss: 9.4600 - dense_2_loss: 7.7104 - dense_acc: 1.0000 - dense_1_acc: 0.9178 - dense_2_acc: 0.4617 - val_loss: 53.3936 - val_dense_loss: 3.5843e-09 - val_dense_1_loss: 31.9739 - val_dense_2_loss: 21.4197 - val_dense_acc: 1.0000 - val_dense_1_acc: 0.9595 - val_dense_2_acc: 0.2301\n",
            "Epoch 16/20\n",
            "122/122 [==============================] - 45s 369ms/step - loss: 15.2258 - dense_loss: 3.4520e-08 - dense_1_loss: 8.2233 - dense_2_loss: 7.0025 - dense_acc: 1.0000 - dense_1_acc: 0.9201 - dense_2_acc: 0.4828 - val_loss: 56.1959 - val_dense_loss: 2.9847e-09 - val_dense_1_loss: 35.8309 - val_dense_2_loss: 20.3650 - val_dense_acc: 1.0000 - val_dense_1_acc: 0.9572 - val_dense_2_acc: 0.3179\n",
            "Epoch 17/20\n",
            "122/122 [==============================] - 44s 362ms/step - loss: 13.5697 - dense_loss: 6.0188e-08 - dense_1_loss: 7.3578 - dense_2_loss: 6.2119 - dense_acc: 1.0000 - dense_1_acc: 0.9200 - dense_2_acc: 0.4834 - val_loss: 45.6357 - val_dense_loss: 3.6056e-09 - val_dense_1_loss: 29.0116 - val_dense_2_loss: 16.6241 - val_dense_acc: 1.0000 - val_dense_1_acc: 0.9514 - val_dense_2_acc: 0.1919\n",
            "Epoch 18/20\n",
            "122/122 [==============================] - 45s 368ms/step - loss: 13.4605 - dense_loss: 3.2821e-08 - dense_1_loss: 7.1986 - dense_2_loss: 6.2619 - dense_acc: 1.0000 - dense_1_acc: 0.9156 - dense_2_acc: 0.4807 - val_loss: 52.6577 - val_dense_loss: 4.3356e-09 - val_dense_1_loss: 32.9941 - val_dense_2_loss: 19.6636 - val_dense_acc: 1.0000 - val_dense_1_acc: 0.9595 - val_dense_2_acc: 0.2127\n",
            "Epoch 19/20\n",
            "122/122 [==============================] - 44s 362ms/step - loss: 11.1427 - dense_loss: 6.0589e-08 - dense_1_loss: 5.8788 - dense_2_loss: 5.2639 - dense_acc: 1.0000 - dense_1_acc: 0.9221 - dense_2_acc: 0.4877 - val_loss: 58.4253 - val_dense_loss: 4.3173e-09 - val_dense_1_loss: 35.7421 - val_dense_2_loss: 22.6832 - val_dense_acc: 1.0000 - val_dense_1_acc: 0.9595 - val_dense_2_acc: 0.3006\n",
            "Epoch 20/20\n",
            "122/122 [==============================] - 45s 365ms/step - loss: 10.4705 - dense_loss: 3.3721e-08 - dense_1_loss: 5.3420 - dense_2_loss: 5.1285 - dense_acc: 1.0000 - dense_1_acc: 0.9284 - dense_2_acc: 0.4760 - val_loss: 51.2636 - val_dense_loss: 4.1091e-09 - val_dense_1_loss: 32.5659 - val_dense_2_loss: 18.6977 - val_dense_acc: 1.0000 - val_dense_1_acc: 0.9665 - val_dense_2_acc: 0.1815\n"
          ],
          "name": "stdout"
        }
      ]
    },
    {
      "cell_type": "code",
      "metadata": {
        "colab": {
          "base_uri": "https://localhost:8080/"
        },
        "id": "VN1c2xNLEHIS",
        "outputId": "17653b5b-eaa3-4c06-fb70-4309a6a545e1"
      },
      "source": [
        "print(history.history.keys())"
      ],
      "execution_count": null,
      "outputs": [
        {
          "output_type": "stream",
          "text": [
            "dict_keys(['loss', 'dense_loss', 'dense_1_loss', 'dense_2_loss', 'dense_acc', 'dense_1_acc', 'dense_2_acc', 'val_loss', 'val_dense_loss', 'val_dense_1_loss', 'val_dense_2_loss', 'val_dense_acc', 'val_dense_1_acc', 'val_dense_2_acc'])\n"
          ],
          "name": "stdout"
        }
      ]
    },
    {
      "cell_type": "code",
      "metadata": {
        "colab": {
          "base_uri": "https://localhost:8080/",
          "height": 282
        },
        "id": "J7mKuEBRETTs",
        "outputId": "ca5344eb-38b2-4743-eff5-28e68bb88e89"
      },
      "source": [
        "plt.plot(history.history['loss'])\n",
        "plt.plot(history.history['val_loss'])\n",
        "plt.legend(['loss', 'validation_loss'])"
      ],
      "execution_count": null,
      "outputs": [
        {
          "output_type": "execute_result",
          "data": {
            "text/plain": [
              "<matplotlib.legend.Legend at 0x7fb7f87b10d0>"
            ]
          },
          "metadata": {
            "tags": []
          },
          "execution_count": 9
        },
        {
          "output_type": "display_data",
          "data": {
            "image/png": "[encoded data removed]",
            "text/plain": [
              "<Figure size 432x288 with 1 Axes>"
            ]
          },
          "metadata": {
            "tags": [],
            "needs_background": "light"
          }
        }
      ]
    },
    {
      "cell_type": "code",
      "metadata": {
        "colab": {
          "base_uri": "https://localhost:8080/",
          "height": 284
        },
        "id": "jqLuigX4EMLq",
        "outputId": "8a3ceebc-5f1b-42f1-9e2c-90ea6df8cfe4"
      },
      "source": [
        "plt.plot(history.history['dense_2_acc'])\n",
        "plt.plot(history.history['val_dense_2_acc'])\n",
        "plt.legend(['acc', 'validation_acc'])"
      ],
      "execution_count": null,
      "outputs": [
        {
          "output_type": "execute_result",
          "data": {
            "text/plain": [
              "<matplotlib.legend.Legend at 0x7fb7f87779d0>"
            ]
          },
          "metadata": {
            "tags": []
          },
          "execution_count": 10
        },
        {
          "output_type": "display_data",
          "data": {
            "image/png": "[encoded data removed]",
            "text/plain": [
              "<Figure size 432x288 with 1 Axes>"
            ]
          },
          "metadata": {
            "tags": [],
            "needs_background": "light"
          }
        }
      ]
    },
    {
      "cell_type": "code",
      "metadata": {
        "id": "GEijNJEbEg9G"
      },
      "source": [
        "Early_Stop = keras.callbacks.EarlyStopping(monitor='loss', patience=5, restore_best_weights=True)"
      ],
      "execution_count": null,
      "outputs": []
    },
    {
      "cell_type": "code",
      "metadata": {
        "colab": {
          "base_uri": "https://localhost:8080/"
        },
        "id": "Jmlk_SfFEYCn",
        "outputId": "b26bf002-c383-416e-ca34-a378407f202f"
      },
      "source": [
        "history = model.fit(X, [Y_1, Y_2, Y_3], epochs=20, batch_size=64, shuffle=True, validation_split=0.1, verbose=1)"
      ],
      "execution_count": null,
      "outputs": [
        {
          "output_type": "stream",
          "text": [
            "Epoch 1/20\n",
            "122/122 [==============================] - 45s 366ms/step - loss: 9.8686 - dense_loss: 4.2725e-08 - dense_1_loss: 5.0128 - dense_2_loss: 4.8558 - dense_acc: 1.0000 - dense_1_acc: 0.9298 - dense_2_acc: 0.4729 - val_loss: 52.4991 - val_dense_loss: 4.5209e-09 - val_dense_1_loss: 36.1749 - val_dense_2_loss: 16.3241 - val_dense_acc: 1.0000 - val_dense_1_acc: 0.9410 - val_dense_2_acc: 0.1630\n",
            "Epoch 2/20\n",
            "122/122 [==============================] - 44s 363ms/step - loss: 10.6902 - dense_loss: 4.6650e-08 - dense_1_loss: 5.5550 - dense_2_loss: 5.1352 - dense_acc: 1.0000 - dense_1_acc: 0.9265 - dense_2_acc: 0.4727 - val_loss: 66.1302 - val_dense_loss: 4.4149e-09 - val_dense_1_loss: 37.0987 - val_dense_2_loss: 29.0314 - val_dense_acc: 1.0000 - val_dense_1_acc: 0.9676 - val_dense_2_acc: 0.2231\n",
            "Epoch 3/20\n",
            "122/122 [==============================] - 45s 366ms/step - loss: 9.0461 - dense_loss: 6.1769e-08 - dense_1_loss: 4.5392 - dense_2_loss: 4.5069 - dense_acc: 1.0000 - dense_1_acc: 0.9237 - dense_2_acc: 0.4822 - val_loss: 49.9337 - val_dense_loss: 4.6501e-09 - val_dense_1_loss: 31.0531 - val_dense_2_loss: 18.8807 - val_dense_acc: 1.0000 - val_dense_1_acc: 0.9514 - val_dense_2_acc: 0.2462\n",
            "Epoch 4/20\n",
            "122/122 [==============================] - 45s 367ms/step - loss: 8.6571 - dense_loss: 4.0541e-08 - dense_1_loss: 4.3218 - dense_2_loss: 4.3352 - dense_acc: 1.0000 - dense_1_acc: 0.9265 - dense_2_acc: 0.4821 - val_loss: 44.1439 - val_dense_loss: 5.9676e-09 - val_dense_1_loss: 29.8353 - val_dense_2_loss: 14.3086 - val_dense_acc: 1.0000 - val_dense_1_acc: 0.9410 - val_dense_2_acc: 0.2509\n",
            "Epoch 5/20\n",
            "122/122 [==============================] - 44s 364ms/step - loss: 8.4780 - dense_loss: 6.7142e-08 - dense_1_loss: 4.2823 - dense_2_loss: 4.1957 - dense_acc: 1.0000 - dense_1_acc: 0.9300 - dense_2_acc: 0.4782 - val_loss: 45.5179 - val_dense_loss: 5.5947e-09 - val_dense_1_loss: 31.3134 - val_dense_2_loss: 14.2046 - val_dense_acc: 1.0000 - val_dense_1_acc: 0.9410 - val_dense_2_acc: 0.2890\n",
            "Epoch 6/20\n",
            "122/122 [==============================] - 45s 367ms/step - loss: 7.9855 - dense_loss: 4.7515e-08 - dense_1_loss: 3.9113 - dense_2_loss: 4.0742 - dense_acc: 1.0000 - dense_1_acc: 0.9284 - dense_2_acc: 0.4879 - val_loss: 55.9887 - val_dense_loss: 6.5181e-09 - val_dense_1_loss: 34.2587 - val_dense_2_loss: 21.7300 - val_dense_acc: 1.0000 - val_dense_1_acc: 0.9653 - val_dense_2_acc: 0.2451\n",
            "Epoch 7/20\n",
            "122/122 [==============================] - 45s 369ms/step - loss: 8.8484 - dense_loss: 6.6416e-08 - dense_1_loss: 4.3615 - dense_2_loss: 4.4868 - dense_acc: 1.0000 - dense_1_acc: 0.9262 - dense_2_acc: 0.4846 - val_loss: 49.3615 - val_dense_loss: 3.5352e-09 - val_dense_1_loss: 32.4935 - val_dense_2_loss: 16.8680 - val_dense_acc: 1.0000 - val_dense_1_acc: 0.9468 - val_dense_2_acc: 0.2809\n",
            "Epoch 8/20\n",
            "122/122 [==============================] - 45s 365ms/step - loss: 8.6242 - dense_loss: 5.7610e-08 - dense_1_loss: 4.4755 - dense_2_loss: 4.1487 - dense_acc: 1.0000 - dense_1_acc: 0.9276 - dense_2_acc: 0.4924 - val_loss: 49.1197 - val_dense_loss: 5.0977e-09 - val_dense_1_loss: 34.0354 - val_dense_2_loss: 15.0843 - val_dense_acc: 1.0000 - val_dense_1_acc: 0.9434 - val_dense_2_acc: 0.2879\n",
            "Epoch 9/20\n",
            "122/122 [==============================] - 45s 371ms/step - loss: 8.2147 - dense_loss: 4.4254e-08 - dense_1_loss: 4.2415 - dense_2_loss: 3.9731 - dense_acc: 1.0000 - dense_1_acc: 0.9280 - dense_2_acc: 0.4879 - val_loss: 62.0066 - val_dense_loss: 5.4564e-09 - val_dense_1_loss: 43.1077 - val_dense_2_loss: 18.8989 - val_dense_acc: 1.0000 - val_dense_1_acc: 0.9538 - val_dense_2_acc: 0.1792\n",
            "Epoch 10/20\n",
            "122/122 [==============================] - 45s 372ms/step - loss: 7.5506 - dense_loss: 5.7698e-08 - dense_1_loss: 3.8964 - dense_2_loss: 3.6542 - dense_acc: 1.0000 - dense_1_acc: 0.9323 - dense_2_acc: 0.4934 - val_loss: 49.2894 - val_dense_loss: 4.3876e-09 - val_dense_1_loss: 29.6485 - val_dense_2_loss: 19.6409 - val_dense_acc: 1.0000 - val_dense_1_acc: 0.9526 - val_dense_2_acc: 0.1191\n",
            "Epoch 11/20\n",
            "122/122 [==============================] - 45s 366ms/step - loss: 8.4144 - dense_loss: 5.5740e-08 - dense_1_loss: 4.4667 - dense_2_loss: 3.9477 - dense_acc: 1.0000 - dense_1_acc: 0.9273 - dense_2_acc: 0.4825 - val_loss: 73.5378 - val_dense_loss: 8.0193e-09 - val_dense_1_loss: 45.2520 - val_dense_2_loss: 28.2858 - val_dense_acc: 1.0000 - val_dense_1_acc: 0.9642 - val_dense_2_acc: 0.1908\n",
            "Epoch 12/20\n",
            "122/122 [==============================] - 44s 364ms/step - loss: 11.4310 - dense_loss: 7.8580e-08 - dense_1_loss: 6.6443 - dense_2_loss: 4.7867 - dense_acc: 1.0000 - dense_1_acc: 0.9282 - dense_2_acc: 0.4808 - val_loss: 60.6602 - val_dense_loss: 6.5703e-09 - val_dense_1_loss: 39.8779 - val_dense_2_loss: 20.7823 - val_dense_acc: 1.0000 - val_dense_1_acc: 0.9468 - val_dense_2_acc: 0.3133\n",
            "Epoch 13/20\n",
            "122/122 [==============================] - 45s 369ms/step - loss: 13.0266 - dense_loss: 4.0369e-08 - dense_1_loss: 7.7595 - dense_2_loss: 5.2671 - dense_acc: 1.0000 - dense_1_acc: 0.9229 - dense_2_acc: 0.4929 - val_loss: 57.9139 - val_dense_loss: 6.5102e-09 - val_dense_1_loss: 41.4469 - val_dense_2_loss: 16.4670 - val_dense_acc: 1.0000 - val_dense_1_acc: 0.9503 - val_dense_2_acc: 0.2902\n",
            "Epoch 14/20\n",
            "122/122 [==============================] - 45s 367ms/step - loss: 8.5616 - dense_loss: 8.2488e-08 - dense_1_loss: 4.6743 - dense_2_loss: 3.8873 - dense_acc: 1.0000 - dense_1_acc: 0.9284 - dense_2_acc: 0.4852 - val_loss: 51.1687 - val_dense_loss: 5.1115e-09 - val_dense_1_loss: 33.2130 - val_dense_2_loss: 17.9557 - val_dense_acc: 1.0000 - val_dense_1_acc: 0.9607 - val_dense_2_acc: 0.4185\n",
            "Epoch 15/20\n",
            "122/122 [==============================] - 44s 365ms/step - loss: 6.7401 - dense_loss: 4.5561e-08 - dense_1_loss: 3.3911 - dense_2_loss: 3.3490 - dense_acc: 1.0000 - dense_1_acc: 0.9347 - dense_2_acc: 0.4867 - val_loss: 45.1307 - val_dense_loss: 5.2614e-09 - val_dense_1_loss: 29.1316 - val_dense_2_loss: 15.9991 - val_dense_acc: 1.0000 - val_dense_1_acc: 0.9445 - val_dense_2_acc: 0.5607\n",
            "Epoch 16/20\n",
            "122/122 [==============================] - 45s 370ms/step - loss: 5.6790 - dense_loss: 5.3988e-08 - dense_1_loss: 2.7253 - dense_2_loss: 2.9537 - dense_acc: 1.0000 - dense_1_acc: 0.9332 - dense_2_acc: 0.4819 - val_loss: 47.9110 - val_dense_loss: 4.3851e-09 - val_dense_1_loss: 31.0625 - val_dense_2_loss: 16.8486 - val_dense_acc: 1.0000 - val_dense_1_acc: 0.9653 - val_dense_2_acc: 0.2520\n",
            "Epoch 17/20\n",
            "122/122 [==============================] - 45s 367ms/step - loss: 5.1438 - dense_loss: 5.2807e-08 - dense_1_loss: 2.4074 - dense_2_loss: 2.7363 - dense_acc: 1.0000 - dense_1_acc: 0.9365 - dense_2_acc: 0.4841 - val_loss: 47.7347 - val_dense_loss: 5.0799e-09 - val_dense_1_loss: 30.6510 - val_dense_2_loss: 17.0836 - val_dense_acc: 1.0000 - val_dense_1_acc: 0.9688 - val_dense_2_acc: 0.6046\n",
            "Epoch 18/20\n",
            "122/122 [==============================] - 44s 364ms/step - loss: 4.5702 - dense_loss: 6.3895e-08 - dense_1_loss: 1.9687 - dense_2_loss: 2.6015 - dense_acc: 1.0000 - dense_1_acc: 0.9395 - dense_2_acc: 0.4830 - val_loss: 44.6096 - val_dense_loss: 5.8319e-09 - val_dense_1_loss: 31.2327 - val_dense_2_loss: 13.3769 - val_dense_acc: 1.0000 - val_dense_1_acc: 0.9538 - val_dense_2_acc: 0.3561\n",
            "Epoch 19/20\n",
            "122/122 [==============================] - 44s 363ms/step - loss: 4.3884 - dense_loss: 5.1151e-08 - dense_1_loss: 1.8545 - dense_2_loss: 2.5339 - dense_acc: 1.0000 - dense_1_acc: 0.9381 - dense_2_acc: 0.4889 - val_loss: 51.7537 - val_dense_loss: 6.5263e-09 - val_dense_1_loss: 36.6690 - val_dense_2_loss: 15.0847 - val_dense_acc: 1.0000 - val_dense_1_acc: 0.9642 - val_dense_2_acc: 0.2405\n",
            "Epoch 20/20\n",
            "122/122 [==============================] - 45s 366ms/step - loss: 3.8755 - dense_loss: 7.5523e-08 - dense_1_loss: 1.6422 - dense_2_loss: 2.2333 - dense_acc: 1.0000 - dense_1_acc: 0.9438 - dense_2_acc: 0.4877 - val_loss: 43.6647 - val_dense_loss: 5.2159e-09 - val_dense_1_loss: 29.0374 - val_dense_2_loss: 14.6274 - val_dense_acc: 1.0000 - val_dense_1_acc: 0.9561 - val_dense_2_acc: 0.3121\n"
          ],
          "name": "stdout"
        }
      ]
    },
    {
      "cell_type": "code",
      "metadata": {
        "colab": {
          "base_uri": "https://localhost:8080/",
          "height": 282
        },
        "id": "cBTa-jHqEct1",
        "outputId": "e6c03286-a377-4aa5-fd72-49319de9163c"
      },
      "source": [
        "plt.plot(history.history['loss'])\n",
        "plt.plot(history.history['val_loss'])\n",
        "plt.legend(['loss', 'validation_loss'])"
      ],
      "execution_count": null,
      "outputs": [
        {
          "output_type": "execute_result",
          "data": {
            "text/plain": [
              "<matplotlib.legend.Legend at 0x7fb7f81acfd0>"
            ]
          },
          "metadata": {
            "tags": []
          },
          "execution_count": 13
        },
        {
          "output_type": "display_data",
          "data": {
            "image/png": "[encoded data removed]",
            "text/plain": [
              "<Figure size 432x288 with 1 Axes>"
            ]
          },
          "metadata": {
            "tags": [],
            "needs_background": "light"
          }
        }
      ]
    },
    {
      "cell_type": "code",
      "metadata": {
        "colab": {
          "base_uri": "https://localhost:8080/",
          "height": 282
        },
        "id": "hXWh0DIZIbLM",
        "outputId": "c0e4f3d7-be66-40e6-a57b-05c45d05a6d3"
      },
      "source": [
        "plt.plot(history.history['dense_2_acc'])\n",
        "plt.plot(history.history['val_dense_2_acc'])\n",
        "plt.legend(['acc', 'validation_acc'])"
      ],
      "execution_count": null,
      "outputs": [
        {
          "output_type": "execute_result",
          "data": {
            "text/plain": [
              "<matplotlib.legend.Legend at 0x7fb7f815fad0>"
            ]
          },
          "metadata": {
            "tags": []
          },
          "execution_count": 14
        },
        {
          "output_type": "display_data",
          "data": {
            "image/png": "[encoded data removed]",
            "text/plain": [
              "<Figure size 432x288 with 1 Axes>"
            ]
          },
          "metadata": {
            "tags": [],
            "needs_background": "light"
          }
        }
      ]
    },
    {
      "cell_type": "code",
      "metadata": {
        "id": "rEKwWPoIIIXa",
        "colab": {
          "base_uri": "https://localhost:8080/"
        },
        "outputId": "d5eb2c12-f365-4ae7-b2d0-5501164a01a3"
      },
      "source": [
        "print(history.history.keys())"
      ],
      "execution_count": null,
      "outputs": [
        {
          "output_type": "stream",
          "text": [
            "dict_keys(['loss', 'dense_loss', 'dense_1_loss', 'dense_2_loss', 'dense_acc', 'dense_1_acc', 'dense_2_acc', 'val_loss', 'val_dense_loss', 'val_dense_1_loss', 'val_dense_2_loss', 'val_dense_acc', 'val_dense_1_acc', 'val_dense_2_acc'])\n"
          ],
          "name": "stdout"
        }
      ]
    },
    {
      "cell_type": "code",
      "metadata": {
        "id": "Z4_2hdXCIyXo"
      },
      "source": [
        "model.compile(loss=[tf.keras.losses.BinaryCrossentropy() ,tf.keras.losses.Huber(delta=1.0), tf.keras.losses.Huber(delta=1.0)], optimizer=keras.optimizers.Adam(lr=1e-4), metrics=['acc'])\n",
        "model.summary()"
      ],
      "execution_count": null,
      "outputs": []
    },
    {
      "cell_type": "code",
      "metadata": {
        "colab": {
          "base_uri": "https://localhost:8080/"
        },
        "id": "kgztHic5IlTu",
        "outputId": "16ca3881-d712-41ea-b43f-01ee708d4c43"
      },
      "source": [
        "history = model.fit(X, [Y_1, Y_2, Y_3], epochs=20, batch_size=64, shuffle=True, validation_split=0.1, verbose=1)"
      ],
      "execution_count": null,
      "outputs": [
        {
          "output_type": "stream",
          "text": [
            "Epoch 1/20\n",
            "122/122 [==============================] - 53s 383ms/step - loss: 1.0820 - dense_loss: 3.4099e-08 - dense_1_loss: 0.4489 - dense_2_loss: 0.6332 - dense_acc: 1.0000 - dense_1_acc: 0.9423 - dense_2_acc: 0.4943 - val_loss: 6.3197 - val_dense_loss: 2.7236e-09 - val_dense_1_loss: 4.0114 - val_dense_2_loss: 2.3083 - val_dense_acc: 1.0000 - val_dense_1_acc: 0.9572 - val_dense_2_acc: 0.3734\n",
            "Epoch 2/20\n",
            "122/122 [==============================] - 45s 366ms/step - loss: 0.8713 - dense_loss: 2.4232e-08 - dense_1_loss: 0.3198 - dense_2_loss: 0.5514 - dense_acc: 1.0000 - dense_1_acc: 0.9503 - dense_2_acc: 0.4883 - val_loss: 5.9201 - val_dense_loss: 1.7411e-09 - val_dense_1_loss: 3.8208 - val_dense_2_loss: 2.0992 - val_dense_acc: 1.0000 - val_dense_1_acc: 0.9572 - val_dense_2_acc: 0.3156\n",
            "Epoch 3/20\n",
            "122/122 [==============================] - 45s 369ms/step - loss: 0.8153 - dense_loss: 1.6967e-08 - dense_1_loss: 0.2914 - dense_2_loss: 0.5239 - dense_acc: 1.0000 - dense_1_acc: 0.9495 - dense_2_acc: 0.4938 - val_loss: 6.6256 - val_dense_loss: 1.4384e-09 - val_dense_1_loss: 4.1010 - val_dense_2_loss: 2.5246 - val_dense_acc: 1.0000 - val_dense_1_acc: 0.9595 - val_dense_2_acc: 0.3688\n",
            "Epoch 4/20\n",
            "122/122 [==============================] - 45s 368ms/step - loss: 0.8902 - dense_loss: 1.2810e-08 - dense_1_loss: 0.3309 - dense_2_loss: 0.5594 - dense_acc: 1.0000 - dense_1_acc: 0.9456 - dense_2_acc: 0.5011 - val_loss: 6.2951 - val_dense_loss: 1.0366e-09 - val_dense_1_loss: 4.0288 - val_dense_2_loss: 2.2663 - val_dense_acc: 1.0000 - val_dense_1_acc: 0.9630 - val_dense_2_acc: 0.3630\n",
            "Epoch 5/20\n",
            "122/122 [==============================] - 45s 367ms/step - loss: 0.8116 - dense_loss: 6.6431e-09 - dense_1_loss: 0.2849 - dense_2_loss: 0.5268 - dense_acc: 1.0000 - dense_1_acc: 0.9533 - dense_2_acc: 0.5030 - val_loss: 5.8095 - val_dense_loss: 8.8491e-10 - val_dense_1_loss: 3.7813 - val_dense_2_loss: 2.0282 - val_dense_acc: 1.0000 - val_dense_1_acc: 0.9561 - val_dense_2_acc: 0.3225\n",
            "Epoch 6/20\n",
            "122/122 [==============================] - 45s 368ms/step - loss: 0.7900 - dense_loss: 5.3365e-09 - dense_1_loss: 0.2799 - dense_2_loss: 0.5101 - dense_acc: 1.0000 - dense_1_acc: 0.9561 - dense_2_acc: 0.4948 - val_loss: 6.1935 - val_dense_loss: 7.8989e-10 - val_dense_1_loss: 4.0178 - val_dense_2_loss: 2.1756 - val_dense_acc: 1.0000 - val_dense_1_acc: 0.9561 - val_dense_2_acc: 0.3572\n",
            "Epoch 7/20\n",
            "122/122 [==============================] - 45s 370ms/step - loss: 0.7588 - dense_loss: 6.2616e-09 - dense_1_loss: 0.2693 - dense_2_loss: 0.4895 - dense_acc: 1.0000 - dense_1_acc: 0.9501 - dense_2_acc: 0.4955 - val_loss: 6.1776 - val_dense_loss: 7.0084e-10 - val_dense_1_loss: 4.0106 - val_dense_2_loss: 2.1670 - val_dense_acc: 1.0000 - val_dense_1_acc: 0.9561 - val_dense_2_acc: 0.3595\n",
            "Epoch 8/20\n",
            "122/122 [==============================] - 45s 370ms/step - loss: 0.7570 - dense_loss: 3.9638e-09 - dense_1_loss: 0.2572 - dense_2_loss: 0.4998 - dense_acc: 1.0000 - dense_1_acc: 0.9534 - dense_2_acc: 0.4983 - val_loss: 6.3249 - val_dense_loss: 6.1344e-10 - val_dense_1_loss: 3.9791 - val_dense_2_loss: 2.3458 - val_dense_acc: 1.0000 - val_dense_1_acc: 0.9607 - val_dense_2_acc: 0.3873\n",
            "Epoch 9/20\n",
            "122/122 [==============================] - 45s 367ms/step - loss: 0.7069 - dense_loss: 2.5304e-09 - dense_1_loss: 0.2399 - dense_2_loss: 0.4670 - dense_acc: 1.0000 - dense_1_acc: 0.9561 - dense_2_acc: 0.5029 - val_loss: 6.3769 - val_dense_loss: 5.6131e-10 - val_dense_1_loss: 4.0546 - val_dense_2_loss: 2.3223 - val_dense_acc: 1.0000 - val_dense_1_acc: 0.9538 - val_dense_2_acc: 0.3295\n",
            "Epoch 10/20\n",
            "122/122 [==============================] - 45s 368ms/step - loss: 0.6986 - dense_loss: 2.5827e-09 - dense_1_loss: 0.2299 - dense_2_loss: 0.4687 - dense_acc: 1.0000 - dense_1_acc: 0.9538 - dense_2_acc: 0.4950 - val_loss: 6.2504 - val_dense_loss: 5.1653e-10 - val_dense_1_loss: 3.9539 - val_dense_2_loss: 2.2965 - val_dense_acc: 1.0000 - val_dense_1_acc: 0.9630 - val_dense_2_acc: 0.2867\n",
            "Epoch 11/20\n",
            "122/122 [==============================] - 45s 367ms/step - loss: 0.6740 - dense_loss: 2.8836e-09 - dense_1_loss: 0.2093 - dense_2_loss: 0.4647 - dense_acc: 1.0000 - dense_1_acc: 0.9509 - dense_2_acc: 0.5077 - val_loss: 6.1284 - val_dense_loss: 4.7940e-10 - val_dense_1_loss: 3.9762 - val_dense_2_loss: 2.1522 - val_dense_acc: 1.0000 - val_dense_1_acc: 0.9526 - val_dense_2_acc: 0.3306\n",
            "Epoch 12/20\n",
            "122/122 [==============================] - 45s 369ms/step - loss: 0.7059 - dense_loss: 6.4003e-09 - dense_1_loss: 0.2427 - dense_2_loss: 0.4631 - dense_acc: 1.0000 - dense_1_acc: 0.9490 - dense_2_acc: 0.5045 - val_loss: 6.7075 - val_dense_loss: 4.2251e-10 - val_dense_1_loss: 4.2181 - val_dense_2_loss: 2.4894 - val_dense_acc: 1.0000 - val_dense_1_acc: 0.9642 - val_dense_2_acc: 0.3595\n",
            "Epoch 13/20\n",
            "122/122 [==============================] - 45s 370ms/step - loss: 0.6768 - dense_loss: 2.5211e-09 - dense_1_loss: 0.2305 - dense_2_loss: 0.4463 - dense_acc: 1.0000 - dense_1_acc: 0.9577 - dense_2_acc: 0.4968 - val_loss: 6.3496 - val_dense_loss: 3.9246e-10 - val_dense_1_loss: 4.0068 - val_dense_2_loss: 2.3428 - val_dense_acc: 1.0000 - val_dense_1_acc: 0.9618 - val_dense_2_acc: 0.3780\n",
            "Epoch 14/20\n",
            "122/122 [==============================] - 45s 368ms/step - loss: 0.6755 - dense_loss: 2.0489e-09 - dense_1_loss: 0.2282 - dense_2_loss: 0.4473 - dense_acc: 1.0000 - dense_1_acc: 0.9596 - dense_2_acc: 0.5005 - val_loss: 6.1695 - val_dense_loss: 3.6956e-10 - val_dense_1_loss: 3.9398 - val_dense_2_loss: 2.2297 - val_dense_acc: 1.0000 - val_dense_1_acc: 0.9572 - val_dense_2_acc: 0.3387\n",
            "Epoch 15/20\n",
            "122/122 [==============================] - 45s 367ms/step - loss: 0.6334 - dense_loss: 1.6016e-09 - dense_1_loss: 0.2095 - dense_2_loss: 0.4239 - dense_acc: 1.0000 - dense_1_acc: 0.9644 - dense_2_acc: 0.4955 - val_loss: 6.2031 - val_dense_loss: 3.6572e-10 - val_dense_1_loss: 3.9791 - val_dense_2_loss: 2.2240 - val_dense_acc: 1.0000 - val_dense_1_acc: 0.9538 - val_dense_2_acc: 0.3977\n",
            "Epoch 16/20\n",
            "122/122 [==============================] - 45s 370ms/step - loss: 0.6335 - dense_loss: 4.8147e-09 - dense_1_loss: 0.2129 - dense_2_loss: 0.4206 - dense_acc: 1.0000 - dense_1_acc: 0.9573 - dense_2_acc: 0.4933 - val_loss: 6.3403 - val_dense_loss: 3.5664e-10 - val_dense_1_loss: 4.0797 - val_dense_2_loss: 2.2606 - val_dense_acc: 1.0000 - val_dense_1_acc: 0.9526 - val_dense_2_acc: 0.3699\n",
            "Epoch 17/20\n",
            "122/122 [==============================] - 45s 366ms/step - loss: 0.5894 - dense_loss: 1.4873e-09 - dense_1_loss: 0.1799 - dense_2_loss: 0.4095 - dense_acc: 1.0000 - dense_1_acc: 0.9534 - dense_2_acc: 0.5062 - val_loss: 6.5258 - val_dense_loss: 3.3697e-10 - val_dense_1_loss: 4.0903 - val_dense_2_loss: 2.4355 - val_dense_acc: 1.0000 - val_dense_1_acc: 0.9665 - val_dense_2_acc: 0.3896\n",
            "Epoch 18/20\n",
            "122/122 [==============================] - 45s 366ms/step - loss: 0.5983 - dense_loss: 1.3654e-09 - dense_1_loss: 0.1865 - dense_2_loss: 0.4118 - dense_acc: 1.0000 - dense_1_acc: 0.9598 - dense_2_acc: 0.4992 - val_loss: 6.5278 - val_dense_loss: 2.9948e-10 - val_dense_1_loss: 4.0913 - val_dense_2_loss: 2.4365 - val_dense_acc: 1.0000 - val_dense_1_acc: 0.9618 - val_dense_2_acc: 0.3803\n",
            "Epoch 19/20\n",
            "122/122 [==============================] - 45s 368ms/step - loss: 0.6471 - dense_loss: 1.1621e-09 - dense_1_loss: 0.2137 - dense_2_loss: 0.4334 - dense_acc: 1.0000 - dense_1_acc: 0.9603 - dense_2_acc: 0.5061 - val_loss: 6.6622 - val_dense_loss: 2.8868e-10 - val_dense_1_loss: 4.2291 - val_dense_2_loss: 2.4331 - val_dense_acc: 1.0000 - val_dense_1_acc: 0.9642 - val_dense_2_acc: 0.3908\n",
            "Epoch 20/20\n",
            "122/122 [==============================] - 45s 366ms/step - loss: 0.5908 - dense_loss: 1.8572e-09 - dense_1_loss: 0.1845 - dense_2_loss: 0.4063 - dense_acc: 1.0000 - dense_1_acc: 0.9628 - dense_2_acc: 0.4947 - val_loss: 5.9255 - val_dense_loss: 2.7302e-10 - val_dense_1_loss: 3.8803 - val_dense_2_loss: 2.0452 - val_dense_acc: 1.0000 - val_dense_1_acc: 0.9538 - val_dense_2_acc: 0.3538\n"
          ],
          "name": "stdout"
        }
      ]
    },
    {
      "cell_type": "code",
      "metadata": {
        "colab": {
          "base_uri": "https://localhost:8080/",
          "height": 286
        },
        "id": "KX29wnEsNnLN",
        "outputId": "e59c0878-b1a4-431c-b491-1258cf468715"
      },
      "source": [
        "plt.plot(history.history['loss'])\n",
        "plt.plot(history.history['val_loss'])\n",
        "plt.legend(['loss', 'validation_loss'])"
      ],
      "execution_count": null,
      "outputs": [
        {
          "output_type": "execute_result",
          "data": {
            "text/plain": [
              "<matplotlib.legend.Legend at 0x7fb7d6602750>"
            ]
          },
          "metadata": {
            "tags": []
          },
          "execution_count": 18
        },
        {
          "output_type": "display_data",
          "data": {
            "image/png": "[encoded data removed]",
            "text/plain": [
              "<Figure size 432x288 with 1 Axes>"
            ]
          },
          "metadata": {
            "tags": [],
            "needs_background": "light"
          }
        }
      ]
    },
    {
      "cell_type": "code",
      "metadata": {
        "colab": {
          "base_uri": "https://localhost:8080/",
          "height": 282
        },
        "id": "ioZOdq-LMgUB",
        "outputId": "1fa33a4e-9a66-4a69-e9d6-862ebbfb40cb"
      },
      "source": [
        "plt.plot(history.history['dense_2_acc'])\n",
        "plt.plot(history.history['val_dense_2_acc'])\n",
        "plt.legend(['acc', 'validation_acc'])"
      ],
      "execution_count": null,
      "outputs": [
        {
          "output_type": "execute_result",
          "data": {
            "text/plain": [
              "<matplotlib.legend.Legend at 0x7fb7d656fa90>"
            ]
          },
          "metadata": {
            "tags": []
          },
          "execution_count": 19
        },
        {
          "output_type": "display_data",
          "data": {
            "image/png": "[encoded data removed]",
            "text/plain": [
              "<Figure size 432x288 with 1 Axes>"
            ]
          },
          "metadata": {
            "tags": [],
            "needs_background": "light"
          }
        }
      ]
    },
    {
      "cell_type": "code",
      "metadata": {
        "colab": {
          "base_uri": "https://localhost:8080/"
        },
        "id": "2i9w3XW9OAgs",
        "outputId": "13dfe8a7-2fc1-42b0-947f-cead6b7ed2a9"
      },
      "source": [
        "history = model.fit(X, [Y_1, Y_2, Y_3], epochs=20, batch_size=64, shuffle=True, validation_split=0.1, verbose=1)"
      ],
      "execution_count": null,
      "outputs": [
        {
          "output_type": "stream",
          "text": [
            "Epoch 1/20\n",
            "122/122 [==============================] - 45s 372ms/step - loss: 0.6048 - dense_loss: 1.3979e-09 - dense_1_loss: 0.1958 - dense_2_loss: 0.4090 - dense_acc: 1.0000 - dense_1_acc: 0.9562 - dense_2_acc: 0.4993 - val_loss: 6.5041 - val_dense_loss: 2.8342e-10 - val_dense_1_loss: 4.1492 - val_dense_2_loss: 2.3549 - val_dense_acc: 1.0000 - val_dense_1_acc: 0.9584 - val_dense_2_acc: 0.3572\n",
            "Epoch 2/20\n",
            "122/122 [==============================] - 45s 365ms/step - loss: 0.5823 - dense_loss: 1.4017e-09 - dense_1_loss: 0.1811 - dense_2_loss: 0.4012 - dense_acc: 1.0000 - dense_1_acc: 0.9593 - dense_2_acc: 0.5029 - val_loss: 6.2284 - val_dense_loss: 2.7091e-10 - val_dense_1_loss: 3.8995 - val_dense_2_loss: 2.3289 - val_dense_acc: 1.0000 - val_dense_1_acc: 0.9549 - val_dense_2_acc: 0.3757\n",
            "Epoch 3/20\n",
            "122/122 [==============================] - 45s 365ms/step - loss: 0.5665 - dense_loss: 1.4939e-09 - dense_1_loss: 0.1784 - dense_2_loss: 0.3881 - dense_acc: 1.0000 - dense_1_acc: 0.9620 - dense_2_acc: 0.4979 - val_loss: 6.0616 - val_dense_loss: 2.3389e-10 - val_dense_1_loss: 3.9272 - val_dense_2_loss: 2.1344 - val_dense_acc: 1.0000 - val_dense_1_acc: 0.9526 - val_dense_2_acc: 0.3249\n",
            "Epoch 4/20\n",
            "122/122 [==============================] - 45s 366ms/step - loss: 0.5624 - dense_loss: 1.3628e-09 - dense_1_loss: 0.1784 - dense_2_loss: 0.3841 - dense_acc: 1.0000 - dense_1_acc: 0.9586 - dense_2_acc: 0.5012 - val_loss: 6.6906 - val_dense_loss: 2.5152e-10 - val_dense_1_loss: 4.2123 - val_dense_2_loss: 2.4783 - val_dense_acc: 1.0000 - val_dense_1_acc: 0.9653 - val_dense_2_acc: 0.3306\n",
            "Epoch 5/20\n",
            "122/122 [==============================] - 45s 367ms/step - loss: 0.5802 - dense_loss: 1.1819e-09 - dense_1_loss: 0.1870 - dense_2_loss: 0.3932 - dense_acc: 1.0000 - dense_1_acc: 0.9578 - dense_2_acc: 0.4998 - val_loss: 6.3207 - val_dense_loss: 2.3452e-10 - val_dense_1_loss: 4.0348 - val_dense_2_loss: 2.2860 - val_dense_acc: 1.0000 - val_dense_1_acc: 0.9584 - val_dense_2_acc: 0.4116\n",
            "Epoch 6/20\n",
            "122/122 [==============================] - 45s 366ms/step - loss: 0.5676 - dense_loss: 1.2853e-09 - dense_1_loss: 0.1810 - dense_2_loss: 0.3866 - dense_acc: 1.0000 - dense_1_acc: 0.9582 - dense_2_acc: 0.4990 - val_loss: 6.1137 - val_dense_loss: 2.2208e-10 - val_dense_1_loss: 3.9794 - val_dense_2_loss: 2.1343 - val_dense_acc: 1.0000 - val_dense_1_acc: 0.9561 - val_dense_2_acc: 0.3387\n",
            "Epoch 7/20\n",
            "122/122 [==============================] - 45s 366ms/step - loss: 0.5722 - dense_loss: 1.1357e-09 - dense_1_loss: 0.1860 - dense_2_loss: 0.3862 - dense_acc: 1.0000 - dense_1_acc: 0.9647 - dense_2_acc: 0.4909 - val_loss: 6.0586 - val_dense_loss: 1.9575e-10 - val_dense_1_loss: 3.9151 - val_dense_2_loss: 2.1434 - val_dense_acc: 1.0000 - val_dense_1_acc: 0.9653 - val_dense_2_acc: 0.3145\n",
            "Epoch 8/20\n",
            "122/122 [==============================] - 44s 365ms/step - loss: 0.5190 - dense_loss: 1.1198e-09 - dense_1_loss: 0.1600 - dense_2_loss: 0.3590 - dense_acc: 1.0000 - dense_1_acc: 0.9613 - dense_2_acc: 0.5029 - val_loss: 6.6014 - val_dense_loss: 2.2544e-10 - val_dense_1_loss: 4.1098 - val_dense_2_loss: 2.4916 - val_dense_acc: 1.0000 - val_dense_1_acc: 0.9526 - val_dense_2_acc: 0.3191\n",
            "Epoch 9/20\n",
            "122/122 [==============================] - 45s 369ms/step - loss: 0.5399 - dense_loss: 1.0496e-09 - dense_1_loss: 0.1860 - dense_2_loss: 0.3539 - dense_acc: 1.0000 - dense_1_acc: 0.9614 - dense_2_acc: 0.5001 - val_loss: 6.4732 - val_dense_loss: 2.0329e-10 - val_dense_1_loss: 4.0696 - val_dense_2_loss: 2.4036 - val_dense_acc: 1.0000 - val_dense_1_acc: 0.9584 - val_dense_2_acc: 0.3214\n",
            "Epoch 10/20\n",
            "122/122 [==============================] - 45s 372ms/step - loss: 0.5337 - dense_loss: 1.0912e-09 - dense_1_loss: 0.1736 - dense_2_loss: 0.3601 - dense_acc: 1.0000 - dense_1_acc: 0.9636 - dense_2_acc: 0.5010 - val_loss: 5.9879 - val_dense_loss: 1.9899e-10 - val_dense_1_loss: 3.8583 - val_dense_2_loss: 2.1295 - val_dense_acc: 1.0000 - val_dense_1_acc: 0.9503 - val_dense_2_acc: 0.2775\n",
            "Epoch 11/20\n",
            "122/122 [==============================] - 45s 370ms/step - loss: 0.5046 - dense_loss: 9.7660e-10 - dense_1_loss: 0.1528 - dense_2_loss: 0.3517 - dense_acc: 1.0000 - dense_1_acc: 0.9617 - dense_2_acc: 0.4927 - val_loss: 6.0038 - val_dense_loss: 1.9674e-10 - val_dense_1_loss: 3.8801 - val_dense_2_loss: 2.1237 - val_dense_acc: 1.0000 - val_dense_1_acc: 0.9503 - val_dense_2_acc: 0.3376\n",
            "Epoch 12/20\n",
            "122/122 [==============================] - 46s 375ms/step - loss: 0.4955 - dense_loss: 9.1189e-10 - dense_1_loss: 0.1501 - dense_2_loss: 0.3455 - dense_acc: 1.0000 - dense_1_acc: 0.9634 - dense_2_acc: 0.4993 - val_loss: 6.1602 - val_dense_loss: 1.9690e-10 - val_dense_1_loss: 4.0592 - val_dense_2_loss: 2.1009 - val_dense_acc: 1.0000 - val_dense_1_acc: 0.9561 - val_dense_2_acc: 0.3017\n",
            "Epoch 13/20\n",
            "122/122 [==============================] - 45s 370ms/step - loss: 0.4774 - dense_loss: 1.1004e-09 - dense_1_loss: 0.1445 - dense_2_loss: 0.3328 - dense_acc: 1.0000 - dense_1_acc: 0.9623 - dense_2_acc: 0.5038 - val_loss: 6.3348 - val_dense_loss: 2.0007e-10 - val_dense_1_loss: 3.9969 - val_dense_2_loss: 2.3380 - val_dense_acc: 1.0000 - val_dense_1_acc: 0.9584 - val_dense_2_acc: 0.3237\n",
            "Epoch 14/20\n",
            "122/122 [==============================] - 45s 369ms/step - loss: 0.4835 - dense_loss: 8.4937e-10 - dense_1_loss: 0.1466 - dense_2_loss: 0.3369 - dense_acc: 1.0000 - dense_1_acc: 0.9635 - dense_2_acc: 0.5002 - val_loss: 6.3001 - val_dense_loss: 1.9455e-10 - val_dense_1_loss: 3.9700 - val_dense_2_loss: 2.3301 - val_dense_acc: 1.0000 - val_dense_1_acc: 0.9642 - val_dense_2_acc: 0.3988\n",
            "Epoch 15/20\n",
            "122/122 [==============================] - 46s 375ms/step - loss: 0.4717 - dense_loss: 9.6847e-10 - dense_1_loss: 0.1400 - dense_2_loss: 0.3317 - dense_acc: 1.0000 - dense_1_acc: 0.9632 - dense_2_acc: 0.4975 - val_loss: 6.6039 - val_dense_loss: 1.9804e-10 - val_dense_1_loss: 4.1627 - val_dense_2_loss: 2.4412 - val_dense_acc: 1.0000 - val_dense_1_acc: 0.9584 - val_dense_2_acc: 0.3445\n",
            "Epoch 16/20\n",
            "122/122 [==============================] - 45s 372ms/step - loss: 0.4742 - dense_loss: 8.3076e-10 - dense_1_loss: 0.1411 - dense_2_loss: 0.3332 - dense_acc: 1.0000 - dense_1_acc: 0.9623 - dense_2_acc: 0.4951 - val_loss: 6.3303 - val_dense_loss: 1.8327e-10 - val_dense_1_loss: 4.0913 - val_dense_2_loss: 2.2389 - val_dense_acc: 1.0000 - val_dense_1_acc: 0.9549 - val_dense_2_acc: 0.3457\n",
            "Epoch 17/20\n",
            "122/122 [==============================] - 45s 366ms/step - loss: 0.4738 - dense_loss: 8.4615e-10 - dense_1_loss: 0.1419 - dense_2_loss: 0.3319 - dense_acc: 1.0000 - dense_1_acc: 0.9631 - dense_2_acc: 0.4965 - val_loss: 6.3792 - val_dense_loss: 1.8799e-10 - val_dense_1_loss: 4.0248 - val_dense_2_loss: 2.3543 - val_dense_acc: 1.0000 - val_dense_1_acc: 0.9584 - val_dense_2_acc: 0.2936\n",
            "Epoch 18/20\n",
            "122/122 [==============================] - 45s 370ms/step - loss: 0.4711 - dense_loss: 9.1974e-10 - dense_1_loss: 0.1445 - dense_2_loss: 0.3266 - dense_acc: 1.0000 - dense_1_acc: 0.9658 - dense_2_acc: 0.4996 - val_loss: 6.3099 - val_dense_loss: 1.6944e-10 - val_dense_1_loss: 4.0839 - val_dense_2_loss: 2.2260 - val_dense_acc: 1.0000 - val_dense_1_acc: 0.9630 - val_dense_2_acc: 0.3434\n",
            "Epoch 19/20\n",
            "122/122 [==============================] - 45s 371ms/step - loss: 0.4619 - dense_loss: 8.1926e-10 - dense_1_loss: 0.1376 - dense_2_loss: 0.3244 - dense_acc: 1.0000 - dense_1_acc: 0.9666 - dense_2_acc: 0.5028 - val_loss: 6.0636 - val_dense_loss: 1.6404e-10 - val_dense_1_loss: 3.9290 - val_dense_2_loss: 2.1346 - val_dense_acc: 1.0000 - val_dense_1_acc: 0.9549 - val_dense_2_acc: 0.2890\n",
            "Epoch 20/20\n",
            "122/122 [==============================] - 45s 366ms/step - loss: 0.4375 - dense_loss: 7.9253e-10 - dense_1_loss: 0.1227 - dense_2_loss: 0.3148 - dense_acc: 1.0000 - dense_1_acc: 0.9657 - dense_2_acc: 0.5013 - val_loss: 6.6210 - val_dense_loss: 1.5852e-10 - val_dense_1_loss: 4.2109 - val_dense_2_loss: 2.4101 - val_dense_acc: 1.0000 - val_dense_1_acc: 0.9595 - val_dense_2_acc: 0.3052\n"
          ],
          "name": "stdout"
        }
      ]
    },
    {
      "cell_type": "code",
      "metadata": {
        "colab": {
          "base_uri": "https://localhost:8080/",
          "height": 286
        },
        "id": "69LtA1AHQcw1",
        "outputId": "04d4c0b3-6e5a-4aec-89b7-651c72983e7f"
      },
      "source": [
        "plt.plot(history.history['loss'])\n",
        "plt.plot(history.history['val_loss'])\n",
        "plt.legend(['loss', 'validation_loss'])"
      ],
      "execution_count": null,
      "outputs": [
        {
          "output_type": "execute_result",
          "data": {
            "text/plain": [
              "<matplotlib.legend.Legend at 0x7fb7d66081d0>"
            ]
          },
          "metadata": {
            "tags": []
          },
          "execution_count": 21
        },
        {
          "output_type": "display_data",
          "data": {
            "image/png": "[encoded data removed]",
            "text/plain": [
              "<Figure size 432x288 with 1 Axes>"
            ]
          },
          "metadata": {
            "tags": [],
            "needs_background": "light"
          }
        }
      ]
    },
    {
      "cell_type": "code",
      "metadata": {
        "colab": {
          "base_uri": "https://localhost:8080/"
        },
        "id": "WHCRjIATBSVo",
        "outputId": "5bc95432-5e99-4927-a4b4-e953c7e42192"
      },
      "source": [
        "print(history.history.keys())"
      ],
      "execution_count": null,
      "outputs": [
        {
          "output_type": "stream",
          "text": [
            "dict_keys(['loss', 'dense_loss', 'dense_1_loss', 'dense_2_loss', 'dense_dense_dense_dense_acc', 'dense_1_dense_1_dense_1_dense_1_acc', 'dense_2_dense_2_dense_2_dense_2_acc', 'val_loss', 'val_dense_loss', 'val_dense_1_loss', 'val_dense_2_loss', 'val_dense_dense_dense_dense_acc', 'val_dense_1_dense_1_dense_1_dense_1_acc', 'val_dense_2_dense_2_dense_2_dense_2_acc'])\n"
          ],
          "name": "stdout"
        }
      ]
    },
    {
      "cell_type": "code",
      "metadata": {
        "id": "1geMJCYON0JJ",
        "colab": {
          "base_uri": "https://localhost:8080/",
          "height": 282
        },
        "outputId": "3f212543-1d20-46f0-9a97-68b5aa46d8fc"
      },
      "source": [
        "plt.plot(history.history['dense_2_acc'])\n",
        "plt.plot(history.history['val_dense_2_acc'])\n",
        "plt.legend(['acc', 'validation_acc'])"
      ],
      "execution_count": null,
      "outputs": [
        {
          "output_type": "execute_result",
          "data": {
            "text/plain": [
              "<matplotlib.legend.Legend at 0x7fb7d644c290>"
            ]
          },
          "metadata": {
            "tags": []
          },
          "execution_count": 22
        },
        {
          "output_type": "display_data",
          "data": {
            "image/png": "[encoded data removed]",
            "text/plain": [
              "<Figure size 432x288 with 1 Axes>"
            ]
          },
          "metadata": {
            "tags": [],
            "needs_background": "light"
          }
        }
      ]
    },
    {
      "cell_type": "code",
      "metadata": {
        "id": "Ak_L28a7ECAr"
      },
      "source": [
        "model.save('/content/drive/MyDrive/Models/TRY_01.h5')"
      ],
      "execution_count": null,
      "outputs": []
    }
  ]
}